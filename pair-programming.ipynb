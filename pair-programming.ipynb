{
 "cells": [
  {
   "cell_type": "code",
   "execution_count": 1,
   "id": "36c94fd5",
   "metadata": {},
   "outputs": [],
   "source": [
    "import numpy as np\n",
    "\n",
    "def movemean(data, desire:float):\n",
    "    \"\"\"\n",
    "    Moves the mean of a dataset to the desired value\n",
    "    \n",
    "    Parameters\n",
    "    ----------\n",
    "    data : np.ndarray\n",
    "          numpy array of the data\n",
    "    desire : float\n",
    "          desired mean value\n",
    "          \n",
    "    Returns\n",
    "    -------\n",
    "    data : np.ndarray\n",
    "          List where the mean = desire\n",
    "    \"\"\"\n",
    "    diff = desire - np.mean(data)\n",
    "    return diff + data"
   ]
  }
 ],
 "metadata": {
  "kernelspec": {
   "display_name": "Python 3 (ipykernel)",
   "language": "python",
   "name": "python3"
  },
  "language_info": {
   "codemirror_mode": {
    "name": "ipython",
    "version": 3
   },
   "file_extension": ".py",
   "mimetype": "text/x-python",
   "name": "python",
   "nbconvert_exporter": "python",
   "pygments_lexer": "ipython3",
   "version": "3.9.13"
  }
 },
 "nbformat": 4,
 "nbformat_minor": 5
}

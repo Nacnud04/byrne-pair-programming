{
 "cells": [
  {
   "cell_type": "code",
   "execution_count": 10,
   "id": "4ec36ff1",
   "metadata": {},
   "outputs": [],
   "source": [
    "import numpy as np"
   ]
  },
  {
   "cell_type": "code",
   "execution_count": 17,
   "id": "36c94fd5",
   "metadata": {},
   "outputs": [],
   "source": [
    "def movemean(data, desire:float):\n",
    "    \"\"\"\n",
    "    Moves the mean of a dataset to the desired value\n",
    "    \n",
    "    Parameters\n",
    "    ----------\n",
    "    data : np.ndarray\n",
    "          numpy array of the data\n",
    "    desire : float\n",
    "          desired mean value\n",
    "    \"\"\"\n",
    "    diff = desire - np.mean(data)\n",
    "    return diff + data"
   ]
  },
  {
   "cell_type": "code",
   "execution_count": 18,
   "id": "bb377eb6",
   "metadata": {},
   "outputs": [
    {
     "name": "stdout",
     "output_type": "stream",
     "text": [
      "[135030.23333333 428282.53333333 137139.23333333]\n",
      "233484.0\n"
     ]
    }
   ],
   "source": [
    "data = np.array([234,293486.3,2343])\n",
    "desire = 233484\n",
    "print(movemean(data, desire))\n",
    "print(np.mean(movemean(data, desire)))"
   ]
  },
  {
   "cell_type": "code",
   "execution_count": 19,
   "id": "e95100ba",
   "metadata": {},
   "outputs": [],
   "source": [
    "movemean?"
   ]
  },
  {
   "cell_type": "code",
   "execution_count": null,
   "id": "e10e168f",
   "metadata": {},
   "outputs": [],
   "source": []
  }
 ],
 "metadata": {
  "kernelspec": {
   "display_name": "Python 3 (ipykernel)",
   "language": "python",
   "name": "python3"
  },
  "language_info": {
   "codemirror_mode": {
    "name": "ipython",
    "version": 3
   },
   "file_extension": ".py",
   "mimetype": "text/x-python",
   "name": "python",
   "nbconvert_exporter": "python",
   "pygments_lexer": "ipython3",
   "version": "3.9.13"
  }
 },
 "nbformat": 4,
 "nbformat_minor": 5
}

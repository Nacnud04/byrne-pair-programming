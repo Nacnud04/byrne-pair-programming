{
 "cells": [
  {
   "cell_type": "code",
   "execution_count": 1,
   "id": "36c94fd5",
   "metadata": {},
   "outputs": [],
   "source": [
    "import numpy as np\n",
    "\n",
    "def movemean(data, desire:float):\n",
    "    \"\"\"\n",
    "    Moves the mean of a dataset to the desired value\n",
    "    \n",
    "    Parameters\n",
    "    ----------\n",
    "    data : np.ndarray\n",
    "          numpy array of the data\n",
    "    desire : float\n",
    "          desired mean value\n",
    "          \n",
    "    Returns\n",
    "    -------\n",
    "    data : np.ndarray\n",
    "          List where the mean = desire\n",
    "    \"\"\"\n",
    "    #Documentation is very nice. Some explanation of the math behind the function\n",
    "    #Could be useful\n",
    "    diff = desire - np.mean(data)\n",
    "    return diff + data"
   ]
  },
  {
   "cell_type": "code",
   "execution_count": 25,
   "id": "7a7e7995-b193-476d-a9b1-9f25ee97a8d7",
   "metadata": {},
   "outputs": [],
   "source": [
    "#Write a function that tests movemean by using two different tests\n",
    "def test_movemean():\n",
    "    #Test for changing to a mean that is higher than the original mean.\n",
    "    data1 = np.array([3,6,9,12,15])\n",
    "    print(f'original data with mean of {np.mean(data1)}: {data1}')\n",
    "    print(f'modified data with mean of 30: {movemean(data1,30)}\\n')\n",
    "    #Test for changing to a mean that is lower than the original mean. \n",
    "    data2 = np.array([10,20,30,40,50])\n",
    "    print(f'original data with mean of {np.mean(data2)}: {data2}')\n",
    "    print(f'modified data with mean of 6: {movemean(data2,6)}')"
   ]
  },
  {
   "cell_type": "code",
   "execution_count": 27,
   "id": "603f898c-3f4a-49f3-b5bb-32f0c1f4886b",
   "metadata": {},
   "outputs": [
    {
     "name": "stdout",
     "output_type": "stream",
     "text": [
      "original data with mean of 9.0: [ 3  6  9 12 15]\n",
      "modified data with mean of 30: [24. 27. 30. 33. 36.]\n",
      "\n",
      "original data with mean of 30.0: [10 20 30 40 50]\n",
      "modified data with mean of 6: [-14.  -4.   6.  16.  26.]\n"
     ]
    }
   ],
   "source": [
    "# Test the movemean function.c\n",
    "test_movemean()"
   ]
  }
 ],
 "metadata": {
  "kernelspec": {
   "display_name": "Python 3 (ipykernel)",
   "language": "python",
   "name": "python3"
  },
  "language_info": {
   "codemirror_mode": {
    "name": "ipython",
    "version": 3
   },
   "file_extension": ".py",
   "mimetype": "text/x-python",
   "name": "python",
   "nbconvert_exporter": "python",
   "pygments_lexer": "ipython3",
   "version": "3.9.12"
  }
 },
 "nbformat": 4,
 "nbformat_minor": 5
}
